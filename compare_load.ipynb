{
 "cells": [
  {
   "cell_type": "code",
   "execution_count": 1,
   "metadata": {},
   "outputs": [],
   "source": [
    "import pyranges as pr\n",
    "import pandas as pd\n",
    "import numpy as np\n",
    "import sqlite3\n",
    "import gffutils\n",
    "import time\n",
    "import pybedtools\n",
    "import gtf_to_df"
   ]
  },
  {
   "cell_type": "code",
   "execution_count": 2,
   "metadata": {},
   "outputs": [],
   "source": [
    "human_df = pr.read_gtf(\"Homo_sapiens.GRCh38.112.chr.gtf\",as_df=True) # 113s"
   ]
  },
  {
   "cell_type": "code",
   "execution_count": 2,
   "metadata": {},
   "outputs": [],
   "source": [
    "human_df2 = gtf_to_df.dataframe(\"Homo_sapiens.GRCh38.112.chr.gtf\") # 341s"
   ]
  },
  {
   "cell_type": "code",
   "execution_count": 3,
   "metadata": {},
   "outputs": [
    {
     "name": "stdout",
     "output_type": "stream",
     "text": [
      "Converted Pyranges object to in-memory sql db in time 73.34100031852722\n"
     ]
    }
   ],
   "source": [
    "conn = sqlite3.connect(\":memory:\")\n",
    "# conn = sqlite3.connect(\"db.sqlite3\")\n",
    "start_time = time.time()\n",
    "human_df.to_sql(\"human\", conn, if_exists=\"replace\")\n",
    "end_time = time.time()\n",
    "print(f\"Converted Pyranges object to in-memory sql db in time {end_time-start_time}\")\n",
    "cur = conn.cursor()"
   ]
  },
  {
   "cell_type": "code",
   "execution_count": 2,
   "metadata": {},
   "outputs": [],
   "source": [
    "dtypes = {\"Chromosome\": \"category\", \"Feature\": \"category\", \"Strand\": \"category\"}\n",
    "names = \"Chromosome Source Feature Start End Score Strand Frame Attribute\".split()\n",
    "human_df3 = pd.read_csv(\n",
    "        \"Homo_sapiens.GRCh38.112.chr.gtf\",\n",
    "        sep=\"\\t\",\n",
    "        header=None,\n",
    "        names=names,\n",
    "        dtype=dtypes,  # type: ignore\n",
    "        skiprows=pr.readers.skiprows(\"Homo_sapiens.GRCh38.112.chr.gtf\"),\n",
    "        nrows=None,\n",
    "    )\n",
    "_to_rows = pr.readers.to_rows\n",
    "extra = _to_rows(human_df3.Attribute, ignore_bad=False)\n",
    "human_df3 = human_df3.drop(\"Attribute\", axis=1)\n",
    "extra.set_index(human_df3.index, inplace=True)\n",
    "human_df3 = pd.concat([human_df3, extra], axis=1, sort=False) # 100s"
   ]
  },
  {
   "cell_type": "code",
   "execution_count": 2,
   "metadata": {},
   "outputs": [],
   "source": [
    "dtypes = {\"Chromosome\": \"category\", \"Feature\": \"category\", \"Strand\": \"category\"}\n",
    "names = \"Chromosome Source Feature Start End Score Strand Frame Attribute\".split()\n",
    "human_df4 = pd.read_csv(\n",
    "        \"Homo_sapiens.GRCh38.112.chr.gtf\",\n",
    "        sep=\"\\t\",\n",
    "        header=None,\n",
    "        names=names,\n",
    "        dtype=dtypes,  # type: ignore\n",
    "        skiprows=pr.readers.skiprows(\"Homo_sapiens.GRCh38.112.chr.gtf\"),\n",
    "        nrows=None,\n",
    "    )"
   ]
  },
  {
   "cell_type": "code",
   "execution_count": 3,
   "metadata": {},
   "outputs": [],
   "source": [
    "loldf = pd.DataFrame.from_records(human_df4.Attribute.apply(lambda x: {k: v for k, v in pr.readers.parse_kv_fields(x)}))"
   ]
  },
  {
   "cell_type": "code",
   "execution_count": 4,
   "metadata": {},
   "outputs": [],
   "source": [
    "human_df4 = human_df4.drop(\"Attribute\", axis=1)\n",
    "loldf.set_index(human_df4.index, inplace=True)\n",
    "human_df4 = pd.concat([human_df4, loldf], axis=1, sort=False) # 100s"
   ]
  }
 ],
 "metadata": {
  "kernelspec": {
   "display_name": ".venv",
   "language": "python",
   "name": "python3"
  },
  "language_info": {
   "codemirror_mode": {
    "name": "ipython",
    "version": 3
   },
   "file_extension": ".py",
   "mimetype": "text/x-python",
   "name": "python",
   "nbconvert_exporter": "python",
   "pygments_lexer": "ipython3",
   "version": "3.12.3"
  }
 },
 "nbformat": 4,
 "nbformat_minor": 2
}
