{
 "cells": [
  {
   "cell_type": "code",
   "execution_count": 2,
   "metadata": {},
   "outputs": [],
   "source": [
    "import pyranges as pr\n",
    "import pandas as pd\n",
    "import seaborn as sns\n",
    "import numpy as np\n",
    "import sqlite3\n",
    "import gffutils\n",
    "import time\n",
    "import pybedtools"
   ]
  },
  {
   "cell_type": "code",
   "execution_count": 3,
   "metadata": {},
   "outputs": [
    {
     "name": "stdout",
     "output_type": "stream",
     "text": [
      "Finished reading into pyranges object in time 44.9543559551239\n"
     ]
    }
   ],
   "source": [
    "start_time = time.time()\n",
    "mouse_gr = pr.read_gtf(\"/home/U210050044/data/DH607-project/gencode.vM36.annotation.gtf\")\n",
    "end_time = time.time()\n",
    "print(f\"Finished reading into pyranges object in time {end_time-start_time}\")"
   ]
  },
  {
   "cell_type": "code",
   "execution_count": 4,
   "metadata": {},
   "outputs": [
    {
     "name": "stdout",
     "output_type": "stream",
     "text": [
      "Finished converting gtf to sql db in time 319.6335127353668\n"
     ]
    }
   ],
   "source": [
    "start_time = time.time()\n",
    "mouse_db = gffutils.create_db(\"/home/U210050044/data/DH607-project/gencode.vM36.annotation.gtf\",\"/home/U210050044/data/DH607-project/mouse_db.sqlite3\",disable_infer_genes=True,disable_infer_transcripts=True, force=True)\n",
    "end_time = time.time()\n",
    "print(f\"Finished converting gtf to sql db in time {end_time-start_time}\")"
   ]
  },
  {
   "cell_type": "code",
   "execution_count": 5,
   "metadata": {},
   "outputs": [],
   "source": [
    "# Open the database\n",
    "mouse_db = gffutils.FeatureDB(\"/home/U210050044/data/DH607-project/mouse_db.sqlite3\")"
   ]
  },
  {
   "cell_type": "code",
   "execution_count": 6,
   "metadata": {},
   "outputs": [
    {
     "name": "stdout",
     "output_type": "stream",
     "text": [
      "Converted Pyranges object to in-memory sql db in time 36.47839665412903\n"
     ]
    }
   ],
   "source": [
    "conn = sqlite3.connect(\":memory:\")\n",
    "start_time = time.time()\n",
    "mouse_gr.df.to_sql(\"mouse\", conn, if_exists=\"replace\")\n",
    "end_time = time.time()\n",
    "print(f\"Converted Pyranges object to in-memory sql db in time {end_time-start_time}\")\n",
    "cur = conn.cursor()"
   ]
  },
  {
   "cell_type": "code",
   "execution_count": 7,
   "metadata": {},
   "outputs": [
    {
     "name": "stdout",
     "output_type": "stream",
     "text": [
      "4.08 s ± 29.8 ms per loop (mean ± std. dev. of 7 runs, 1 loop each)\n"
     ]
    }
   ],
   "source": [
    "# Aggregate Queries: Counting transcripts, calculating exon lengths, and grouping features\n",
    "### Aggregate Query 1: Count the number of exons for each gene\n",
    "# Using pyranges\n",
    "%timeit exon_counts_pr = (mouse_gr[mouse_gr.Feature == \"exon\"].df.groupby(\"gene_id\").size().reset_index(name=\"exon_count\"))"
   ]
  },
  {
   "cell_type": "code",
   "execution_count": 8,
   "metadata": {},
   "outputs": [
    {
     "name": "stdout",
     "output_type": "stream",
     "text": [
      "34.2 s ± 117 ms per loop (mean ± std. dev. of 7 runs, 1 loop each)\n"
     ]
    }
   ],
   "source": [
    "# Using gffutils\n",
    "def exon_counts_gffutls():\n",
    "    # Iterate over all genes and count their exons\n",
    "    exon_counts = {}\n",
    "    for gene in mouse_db.features_of_type(\"gene\"):\n",
    "        # Efficiently count exons for each gene using the `children` method\n",
    "        exon_counts[gene.id] = sum(\n",
    "            1 for _ in mouse_db.children(gene, featuretype=\"exon\")\n",
    "    )\n",
    "    return exon_counts\n",
    "%timeit exon_counts_gff = exon_counts_gffutls()"
   ]
  },
  {
   "cell_type": "code",
   "execution_count": 9,
   "metadata": {},
   "outputs": [
    {
     "name": "stdout",
     "output_type": "stream",
     "text": [
      "1.4 s ± 137 ms per loop (mean ± std. dev. of 7 runs, 1 loop each)\n"
     ]
    }
   ],
   "source": [
    "# Using sql\n",
    "%timeit exon_counts_sql = pd.read_sql_query(\"SELECT gene_id, COUNT(*) as exon_count FROM mouse WHERE Feature = 'exon' GROUP BY gene_id\", conn)"
   ]
  },
  {
   "cell_type": "code",
   "execution_count": 10,
   "metadata": {},
   "outputs": [
    {
     "name": "stdout",
     "output_type": "stream",
     "text": [
      "4.81 s ± 196 ms per loop (mean ± std. dev. of 7 runs, 1 loop each)\n"
     ]
    }
   ],
   "source": [
    "### Aggregate Query 2: Calculate the total length of exons for each gene\n",
    "# Using pyranges\n",
    "%timeit exon_lengths_pr = (mouse_gr[mouse_gr.Feature == \"exon\"].df.assign(length=lambda df: df[\"End\"] - df[\"Start\"]).groupby(\"gene_id\")[\"length\"].sum().reset_index(name=\"total_exon_length\"))"
   ]
  },
  {
   "cell_type": "code",
   "execution_count": 11,
   "metadata": {},
   "outputs": [
    {
     "name": "stdout",
     "output_type": "stream",
     "text": [
      "34.7 s ± 52.6 ms per loop (mean ± std. dev. of 7 runs, 1 loop each)\n"
     ]
    }
   ],
   "source": [
    "# Using gffutils\n",
    "def exon_lengths_gffutls():\n",
    "    # Dictionary to store total exon length per gene\n",
    "    exon_lengths = {}\n",
    "    # Iterate over all genes and calculate total exon length\n",
    "    for gene in mouse_db.features_of_type(\"gene\"):\n",
    "        # Compute total exon length for each gene\n",
    "        exon_lengths[gene.id] = sum(\n",
    "            (child.end - child.start + 1)\n",
    "            for child in mouse_db.children(gene, featuretype=\"exon\")\n",
    "        )\n",
    "    return exon_lengths\n",
    "%timeit exon_lengths_gff = exon_lengths_gffutls()"
   ]
  },
  {
   "cell_type": "code",
   "execution_count": 12,
   "metadata": {},
   "outputs": [
    {
     "name": "stdout",
     "output_type": "stream",
     "text": [
      "1.51 s ± 8.96 ms per loop (mean ± std. dev. of 7 runs, 1 loop each)\n"
     ]
    }
   ],
   "source": [
    "# using sql\n",
    "%timeit exon_lengths_sql = pd.read_sql_query(\"SELECT gene_id, SUM(End - Start) as total_exon_length FROM mouse WHERE Feature = 'exon' GROUP BY gene_id\", conn)"
   ]
  },
  {
   "cell_type": "code",
   "execution_count": 13,
   "metadata": {},
   "outputs": [
    {
     "name": "stdout",
     "output_type": "stream",
     "text": [
      "915 ms ± 3.61 ms per loop (mean ± std. dev. of 7 runs, 1 loop each)\n"
     ]
    }
   ],
   "source": [
    "### Aggregate Query 3: Identify the chromosome with the highest number of transcripts\n",
    "# Using pyranges\n",
    "%timeit transcript_counts_pr = mouse_gr[mouse_gr.Feature == \"transcript\"].df[\"Chromosome\"].value_counts().idxmax()"
   ]
  },
  {
   "cell_type": "code",
   "execution_count": 14,
   "metadata": {},
   "outputs": [
    {
     "name": "stdout",
     "output_type": "stream",
     "text": [
      "5.77 s ± 26.3 ms per loop (mean ± std. dev. of 7 runs, 1 loop each)\n"
     ]
    }
   ],
   "source": [
    "# Using gffutils\n",
    "def transcript_counts_gffutls():\n",
    "    # Dictionary to store the number of transcripts per chromosome\n",
    "    transcript_counts = {}\n",
    "    # Iterate over all transcripts and count the number of transcripts per chromosome\n",
    "    for transcript in mouse_db.features_of_type(\"transcript\"):\n",
    "        chrom = transcript.chrom\n",
    "        if chrom not in transcript_counts:\n",
    "            transcript_counts[chrom] = 0\n",
    "        transcript_counts[chrom] += 1\n",
    "    return max(transcript_counts, key=transcript_counts.get)\n",
    "%timeit transcript_counts_gff = transcript_counts_gffutls()"
   ]
  },
  {
   "cell_type": "code",
   "execution_count": 15,
   "metadata": {},
   "outputs": [
    {
     "name": "stdout",
     "output_type": "stream",
     "text": [
      "542 ms ± 8.63 ms per loop (mean ± std. dev. of 7 runs, 1 loop each)\n"
     ]
    }
   ],
   "source": [
    "# using sql\n",
    "%timeit transcript_counts_sql = pd.read_sql_query(\"SELECT Chromosome, COUNT(*) as transcript_count FROM mouse WHERE Feature = 'transcript' GROUP BY Chromosome ORDER BY transcript_count DESC LIMIT 1\", conn)"
   ]
  },
  {
   "cell_type": "markdown",
   "metadata": {},
   "source": [
    "# Interval Arithmetic"
   ]
  },
  {
   "cell_type": "code",
   "execution_count": 16,
   "metadata": {},
   "outputs": [
    {
     "name": "stdout",
     "output_type": "stream",
     "text": [
      "3.23 s ± 15.9 ms per loop (mean ± std. dev. of 7 runs, 1 loop each)\n"
     ]
    }
   ],
   "source": [
    "# Query 1: Merging Overlapping Exon Intervals\n",
    "# Combine all overlapping exon intervals into contiguous regions\n",
    "# Using pyranges\n",
    "%timeit exon_intervals_pr = mouse_gr[mouse_gr.Feature == \"exon\"].merge(strand=False)"
   ]
  },
  {
   "cell_type": "code",
   "execution_count": 17,
   "metadata": {},
   "outputs": [
    {
     "name": "stdout",
     "output_type": "stream",
     "text": [
      "1min 5s ± 776 ms per loop (mean ± std. dev. of 7 runs, 1 loop each)\n"
     ]
    }
   ],
   "source": [
    "# using gffutils TODO: run\n",
    "def exon_intervals_gffutls():\n",
    "    exon_intervals = [\n",
    "        gffutils.helpers.asinterval(exon) for exon in mouse_db.features_of_type(\"exon\")\n",
    "    ]\n",
    "    exon_intervals_sorted = sorted(exon_intervals, key=lambda x: (x.chrom, x.start))\n",
    "    # Use pybedtools to merge overlapping intervals\n",
    "    return pybedtools.BedTool(exon_intervals_sorted).merge()\n",
    "%timeit exon_intervals_gff = exon_intervals_gffutls()"
   ]
  },
  {
   "cell_type": "code",
   "execution_count": 18,
   "metadata": {},
   "outputs": [
    {
     "name": "stdout",
     "output_type": "stream",
     "text": [
      "6.46 s ± 34.7 ms per loop (mean ± std. dev. of 7 runs, 1 loop each)\n"
     ]
    }
   ],
   "source": [
    "# using sql\n",
    "def find_exon_intervals_sql():\n",
    "    exon_intervals = pd.read_sql_query(\"SELECT Chromosome, Start, End FROM mouse WHERE Feature = 'exon' ORDER BY Chromosome, Start\", conn)\n",
    "    return pybedtools.BedTool.from_dataframe(exon_intervals).merge()\n",
    "%timeit exon_intervals_sql = find_exon_intervals_sql()"
   ]
  },
  {
   "cell_type": "code",
   "execution_count": 20,
   "metadata": {},
   "outputs": [
    {
     "name": "stdout",
     "output_type": "stream",
     "text": [
      "519 ms ± 2.28 ms per loop (mean ± std. dev. of 7 runs, 1 loop each)\n"
     ]
    }
   ],
   "source": [
    "# Query 2: Finding Overlaps with a Specific Interval\n",
    "# Find all gene features that overlap a given interval chr1:100000-200000\n",
    "# Using pyranges\n",
    "%timeit overlapping_genes_pr = mouse_gr[mouse_gr.Feature == \"gene\"].merge(strand=False).overlap(pr.from_dict({\"Chromosome\": [\"1\"], \"Start\": [100000], \"End\": [200000]}))"
   ]
  },
  {
   "cell_type": "code",
   "execution_count": 21,
   "metadata": {},
   "outputs": [
    {
     "name": "stdout",
     "output_type": "stream",
     "text": [
      "1min 4s ± 157 ms per loop (mean ± std. dev. of 7 runs, 1 loop each)\n"
     ]
    }
   ],
   "source": [
    "# using gffutils TODO: run\n",
    "def overlapping_genes_gffutls():\n",
    "    exon_intervals_overlapping = pybedtools.BedTool.from_dataframe(pd.DataFrame({\"Chromosome\": [\"1\"], \"Start\": [100000], \"End\": [200000]}))\n",
    "    exon_intervals = [\n",
    "        gffutils.helpers.asinterval(exon) for exon in mouse_db.features_of_type(\"exon\")\n",
    "    ]\n",
    "    exon_intervals_sorted = sorted(exon_intervals, key=lambda x: (x.chrom, x.start))\n",
    "    # Use pybedtools to merge overlapping intervals\n",
    "    return exon_intervals_overlapping.window(pybedtools.BedTool(exon_intervals_sorted).merge(), w=0)\n",
    "%timeit overlapping_genes_gff = overlapping_genes_gffutls()"
   ]
  },
  {
   "cell_type": "code",
   "execution_count": 22,
   "metadata": {},
   "outputs": [
    {
     "name": "stdout",
     "output_type": "stream",
     "text": [
      "6.73 s ± 36.4 ms per loop (mean ± std. dev. of 7 runs, 1 loop each)\n"
     ]
    }
   ],
   "source": [
    "# using sql\n",
    "def find_overlapping_genes_sql():\n",
    "    exon_intervals_overlapping = pybedtools.BedTool.from_dataframe(pd.DataFrame({\"Chromosome\": [\"1\"], \"Start\": [100000], \"End\": [200000]}))\n",
    "    exon_intervals = pd.read_sql_query(\"SELECT Chromosome, Start, End FROM mouse WHERE Feature = 'exon' ORDER BY Chromosome, Start\", conn)\n",
    "    return exon_intervals_overlapping.window(pybedtools.BedTool.from_dataframe(exon_intervals).merge(), w=0)\n",
    "%timeit overlapping_genes_sql = find_overlapping_genes_sql()"
   ]
  },
  {
   "cell_type": "code",
   "execution_count": 23,
   "metadata": {},
   "outputs": [
    {
     "name": "stdout",
     "output_type": "stream",
     "text": [
      "3.43 s ± 28.4 ms per loop (mean ± std. dev. of 7 runs, 1 loop each)\n"
     ]
    }
   ],
   "source": [
    "# Query 3: Subtracting Intervals\n",
    "# Remove a set of repetitive regions from the exon features.\n",
    "# Using pyranges\n",
    "%timeit subtracted_intervals_pr = mouse_gr[mouse_gr.Feature == \"exon\"].merge(strand=False).subtract(pr.from_dict({\"Chromosome\": [\"1\", \"1\"],\"Start\": [12000000, 16000000],\"End\": [12800000, 16800000],}))"
   ]
  },
  {
   "cell_type": "code",
   "execution_count": 24,
   "metadata": {},
   "outputs": [
    {
     "name": "stdout",
     "output_type": "stream",
     "text": [
      "1min 4s ± 101 ms per loop (mean ± std. dev. of 7 runs, 1 loop each)\n"
     ]
    }
   ],
   "source": [
    "# using gffutils TODO: run\n",
    "def subtracted_intervals_gffutls():\n",
    "    exon_intervals_subtract = pybedtools.BedTool.from_dataframe(pd.DataFrame({\"Chromosome\": [\"1\", \"1\"], \"Start\": [12000000, 16000000],\"End\": [12800000, 16800000],}))\n",
    "    exon_intervals = [\n",
    "        gffutils.helpers.asinterval(exon) for exon in mouse_db.features_of_type(\"exon\")\n",
    "    ]\n",
    "    exon_intervals_sorted = sorted(exon_intervals, key=lambda x: (x.chrom, x.start))\n",
    "    # Use pybedtools to merge overlapping intervals\n",
    "    return pybedtools.BedTool(exon_intervals_sorted).merge().subtract(exon_intervals_subtract)\n",
    "%timeit overlapping_genes_gff = overlapping_genes_gffutls()"
   ]
  },
  {
   "cell_type": "code",
   "execution_count": 25,
   "metadata": {},
   "outputs": [
    {
     "name": "stderr",
     "output_type": "stream",
     "text": [
      "***** WARNING: File /tmp/pybedtools.4qvxs1b6.tmp has inconsistent naming convention for record:\n",
      "chr1\t3143475\t3144545\n",
      "\n",
      "***** WARNING: File /tmp/pybedtools.4qvxs1b6.tmp has inconsistent naming convention for record:\n",
      "chr1\t3143475\t3144545\n",
      "\n",
      "***** WARNING: File /tmp/pybedtools.882e1vdu.tmp has inconsistent naming convention for record:\n",
      "chr1\t3143475\t3144545\n",
      "\n",
      "***** WARNING: File /tmp/pybedtools.882e1vdu.tmp has inconsistent naming convention for record:\n",
      "chr1\t3143475\t3144545\n",
      "\n",
      "***** WARNING: File /tmp/pybedtools.f6to89k4.tmp has inconsistent naming convention for record:\n",
      "chr1\t3143475\t3144545\n",
      "\n",
      "***** WARNING: File /tmp/pybedtools.f6to89k4.tmp has inconsistent naming convention for record:\n",
      "chr1\t3143475\t3144545\n",
      "\n",
      "***** WARNING: File /tmp/pybedtools._nvwvyls.tmp has inconsistent naming convention for record:\n",
      "chr1\t3143475\t3144545\n",
      "\n",
      "***** WARNING: File /tmp/pybedtools._nvwvyls.tmp has inconsistent naming convention for record:\n",
      "chr1\t3143475\t3144545\n",
      "\n",
      "***** WARNING: File /tmp/pybedtools.sehw92yq.tmp has inconsistent naming convention for record:\n",
      "chr1\t3143475\t3144545\n",
      "\n",
      "***** WARNING: File /tmp/pybedtools.sehw92yq.tmp has inconsistent naming convention for record:\n",
      "chr1\t3143475\t3144545\n",
      "\n",
      "***** WARNING: File /tmp/pybedtools.dz8zt61q.tmp has inconsistent naming convention for record:\n",
      "chr1\t3143475\t3144545\n",
      "\n",
      "***** WARNING: File /tmp/pybedtools.dz8zt61q.tmp has inconsistent naming convention for record:\n",
      "chr1\t3143475\t3144545\n",
      "\n",
      "***** WARNING: File /tmp/pybedtools.aapmn5a1.tmp has inconsistent naming convention for record:\n",
      "chr1\t3143475\t3144545\n",
      "\n",
      "***** WARNING: File /tmp/pybedtools.aapmn5a1.tmp has inconsistent naming convention for record:\n",
      "chr1\t3143475\t3144545\n",
      "\n"
     ]
    },
    {
     "name": "stdout",
     "output_type": "stream",
     "text": [
      "6.83 s ± 40.8 ms per loop (mean ± std. dev. of 7 runs, 1 loop each)\n"
     ]
    },
    {
     "name": "stderr",
     "output_type": "stream",
     "text": [
      "***** WARNING: File /tmp/pybedtools.iuxdt0if.tmp has inconsistent naming convention for record:\n",
      "chr1\t3143475\t3144545\n",
      "\n",
      "***** WARNING: File /tmp/pybedtools.iuxdt0if.tmp has inconsistent naming convention for record:\n",
      "chr1\t3143475\t3144545\n",
      "\n"
     ]
    }
   ],
   "source": [
    "# using sql\n",
    "def find_subtracted_intervals_sql():\n",
    "    exon_intervals_subtract = pybedtools.BedTool.from_dataframe(pd.DataFrame({\"Chromosome\": [\"1\", \"1\"], \"Start\": [12000000, 16000000],\"End\": [12800000, 16800000],}))\n",
    "    exon_intervals = pd.read_sql_query(\"SELECT Chromosome, Start, End FROM mouse WHERE Feature = 'exon' ORDER BY Chromosome, Start\", conn)\n",
    "    # Use pybedtools to merge overlapping intervals\n",
    "    return pybedtools.BedTool.from_dataframe(exon_intervals).merge().subtract(exon_intervals_subtract)\n",
    "%timeit subtracted_intervals_sql = find_subtracted_intervals_sql()"
   ]
  },
  {
   "cell_type": "code",
   "execution_count": null,
   "metadata": {},
   "outputs": [],
   "source": []
  }
 ],
 "metadata": {
  "kernelspec": {
   "display_name": ".venv",
   "language": "python",
   "name": "python3"
  },
  "language_info": {
   "codemirror_mode": {
    "name": "ipython",
    "version": 3
   },
   "file_extension": ".py",
   "mimetype": "text/x-python",
   "name": "python",
   "nbconvert_exporter": "python",
   "pygments_lexer": "ipython3",
   "version": "3.10.12"
  }
 },
 "nbformat": 4,
 "nbformat_minor": 2
}
